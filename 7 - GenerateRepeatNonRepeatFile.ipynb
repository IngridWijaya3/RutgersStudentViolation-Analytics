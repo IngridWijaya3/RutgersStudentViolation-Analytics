{
 "cells": [
  {
   "cell_type": "code",
   "execution_count": 3,
   "metadata": {
    "collapsed": true
   },
   "outputs": [],
   "source": [
    "from pandas import read_csv\n",
    "from pandas import datetime\n",
    "from matplotlib import pyplot\n",
    "import pandas as pd\n",
    "import datetime\n",
    "import math\n",
    "import calendar\n",
    "import numpy as np\n",
    "import numpy as np\n",
    "import requests\n",
    "import re\n",
    "import json\n",
    "df=pd.read_csv(\"Combined_731_All_Fixed_With_Clusters_Campus.csv\",keep_default_na=False)\n",
    "df = df1.replace(np.nan, '', regex=True)\n",
    "\n",
    "df = df[~(df['latitude'].isnull())]\n",
    "df = df[~(df['gender'] == 'Other')]\n",
    "df = df[~df['gender'].isnull()]\n",
    "df = df[~(df['gpa_cume'].isnull())]\n",
    "df.inc_title.fillna('',inplace=True)\n",
    "repeatnonrepeat=df[[\"academic_major\",\"mem_greek_org\",\"mem_honors\",\"ethnicity\",\"gender\",\"gpa_cume\",'age','repeat_classification']]\n",
    "\n",
    "repeatnonrepeat.to_csv('RepeatNonRepeat.csv')\n"
   ]
  }
 ],
 "metadata": {
  "kernelspec": {
   "display_name": "Python 3",
   "language": "python",
   "name": "python3"
  },
  "language_info": {
   "codemirror_mode": {
    "name": "ipython",
    "version": 3
   },
   "file_extension": ".py",
   "mimetype": "text/x-python",
   "name": "python",
   "nbconvert_exporter": "python",
   "pygments_lexer": "ipython3",
   "version": "3.6.0"
  }
 },
 "nbformat": 4,
 "nbformat_minor": 2
}
