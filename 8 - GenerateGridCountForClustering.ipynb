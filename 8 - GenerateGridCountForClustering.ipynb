{
 "cells": [
  {
   "cell_type": "code",
   "execution_count": null,
   "metadata": {
    "collapsed": true
   },
   "outputs": [],
   "source": [
    "from pandas import read_csv\n",
    "from pandas import datetime\n",
    "from matplotlib import pyplot\n",
    "import pandas as pd\n",
    "import datetime\n",
    "import math\n",
    "import calendar\n",
    "import numpy as np\n",
    "import requests\n",
    "import re\n",
    "import json\n",
    "import requests\n",
    "import json\n",
    "import shapefile as shp\n",
    "from shapely.geometry import mapping, shape, Point, Polygon\n",
    "import geopandas as gpd\n",
    "from geopandas.tools import sjoin\n",
    "\n",
    "df1=pd.read_csv(\"Combined_731_All_Fixed_With_Clusters_Campus.csv\")\n",
    "d1 = df1[~(df1['latitude'].isnull())]\n",
    "df1 = df1[~(df1['gender'] == 'Other')]\n",
    "df1 = df1[~df1['gender'].isnull()]\n",
    "df1 = df1[~(df1['gpa_cume'].isnull())]\n",
    "df1.inc_title.fillna('',inplace=True)\n",
    "dateparse = lambda dates: pd.datetime.strptime(dates, '%Y-%m-%d')\n",
    "\n",
    "\n",
    "dateparse = lambda dates: pd.datetime.strptime(dates, '%Y-%m-%d')\n",
    "\n",
    "\n",
    "df1['date_only'] = df1['date_only'].apply(dateparse)\n",
    "\n",
    "df1=df1[[\"campus\",\"latitude\",\"longitude\",\"grid8_pointx1\",\"grid8_pointy1\",\"grid8_pointx2\",\"grid8_pointy2\",\"grid8_pointx3\",\"grid8_pointy3\",\"grid8_pointx4\",\"grid8_pointy4\"]].groupby([\"campus\",\"latitude\",\"longitude\",\"grid8_pointx1\",\"grid8_pointy1\",\"grid8_pointx2\",\"grid8_pointy2\",\"grid8_pointx3\",\"grid8_pointy3\",\"grid8_pointx4\",\"grid8_pointy4\"])\n",
    "df1=df1.size().reset_index()\n",
    "df1.columns = [\"campus\",\"latitude\",\"longitude\",\"grid8_pointx1\",\"grid8_pointy1\",\"grid8_pointx2\",\"grid8_pointy2\",\"grid8_pointx3\",\"grid8_pointy3\",\"grid8_pointx4\",\"grid8_pointy4\",\"number_of_violations\"]\n",
    "\n",
    "df1=df1.groupby([\"campus\",\"grid8_pointx1\",\"grid8_pointy1\",\"grid8_pointx2\",\"grid8_pointy2\",\"grid8_pointx3\",\"grid8_pointy3\",\"grid8_pointx4\",\"grid8_pointy4\"])[[\"number_of_violations\"]].agg(['sum','count'])\n",
    "df1=df1.reset_index()\n",
    "df1.columns = [\"campus\",\"grid8_pointx1\",\"grid8_pointy1\",\"grid8_pointx2\",\"grid8_pointy2\",\"grid8_pointx3\",\"grid8_pointy3\",\"grid8_pointx4\",\"grid8_pointy4\",\"number_of_violations\",\"number_of_locations\"]\n",
    "\n",
    "\n",
    "df1=df1.sort_index()\n",
    "df1.to_csv(\"GridCount.csv\",encoding='utf-8',date_format='%Y-%m-%d')\n",
    "print(\"done\")\n"
   ]
  }
 ],
 "metadata": {
  "kernelspec": {
   "display_name": "Python 3",
   "language": "python",
   "name": "python3"
  },
  "language_info": {
   "codemirror_mode": {
    "name": "ipython",
    "version": 3
   },
   "file_extension": ".py",
   "mimetype": "text/x-python",
   "name": "python",
   "nbconvert_exporter": "python",
   "pygments_lexer": "ipython3",
   "version": "3.6.0"
  }
 },
 "nbformat": 4,
 "nbformat_minor": 2
}
